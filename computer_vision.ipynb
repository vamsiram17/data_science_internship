{
 "cells": [
  {
   "cell_type": "markdown",
   "id": "surgical-congress",
   "metadata": {},
   "source": [
    "# Computer Vision\n",
    "\n",
    "**Name: Vamsi Ram**\n",
    "\n",
    "**E-mail : vamsiramg@gmail.com**\n",
    "\n",
    "This notebook includes the summary of my learnings from the resources provided in the Data Science Internship by wowlabz on conduira online platform.\n",
    "\n",
    "## What is Computer Vision?\n",
    "\n",
    "\n",
    "It is the method of making a computer understand and label what is present in an image or video.It involves training the computer with large number of images of a particular sample in order to make it understand what the picture is and then having it to figure out certain patterns in the process so that next time if a similar image is given as an input, it would detect it and predict the outcome.\n",
    "\n",
    "\n",
    "The basic computer vision tasks include,\n",
    "\n",
    "- **Image Classification** – to detect the category of the image\n",
    "\n",
    "- **Object Detection** – to identify and locate the objects of an input image\n",
    "\n",
    "- **Object Tracking** - to tace the path of an object along in an input image or video\n",
    "\n",
    "- **Semantic Segmentation** – to identify the boundaries of detected objects\n",
    "\n",
    "\n",
    "The **basic pipeline** of a computer vision task involves the following steps,\n",
    "\n",
    "- Giving the data as input\n",
    "- Input Data Pre-processing\n",
    "- Feature Extraction\n",
    "- Forming patterns of recognition\n",
    "- Prediction"
   ]
  },
  {
   "cell_type": "markdown",
   "id": "inner-advertiser",
   "metadata": {},
   "source": [
    "## Standardizing input data:\n",
    "\n",
    "Input data pre-processing involves standardizing all the input images so that the machine will likely form patterns of recognition without any difficulty.Also standardizing, would improve the efficiency of the learning capacity of the machine.\n",
    "This involves ensuring that all the input images are of same dimension and of same scale, wither gray scale or color.\n",
    "\n",
    "\n",
    "- **Image Classification**:\n",
    "\n",
    "This involves Mapping images as numerical data\n",
    "\n",
    "- Any image contains a group of image pixels which are combined together with different pixel intensity values.\n",
    "\n",
    "- The pixel values are between 0 – 255.\n",
    "\n",
    "- In case of gray scale image, it only has single channel.\n",
    "\n",
    "- In case of color image it has RGB, 3 channels of Red, Green and Blue.\n",
    "\n",
    "\n",
    "The machine will convert the images into numerical data of MxN matrix form which contains the pixel intensity values."
   ]
  },
  {
   "cell_type": "markdown",
   "id": "wired-compilation",
   "metadata": {},
   "source": [
    "## Training with images:\n",
    "\n",
    "Generally we provide large sets of labelled images to the machine learning model, so that it gets trained.\n",
    "This method particularly makes use of different machine learning techniques such as CNN, Deep Learning.\n",
    "\n",
    "\n",
    "- **Neural Network**:\n",
    "\n",
    "It consists of three main parts, which are input layer, one or multiple intermediate hidden layers and one output layer.These layers are interconnected with neurons which use similar activation functions to form learning patterns form the input data.\n",
    "\n",
    "These activation functions can be modified according to our type of prediction label such as for\n",
    "\n",
    "- Binary Classification – Sigmoid \n",
    "- Multi-class Classification – Softmax\n",
    "- Regression – Linear functions\n",
    "\n",
    "Also the **errors** pertaining to the above models are calculated and they **are regularized** accordingly.\n",
    "\n",
    "Cost function is defined for the respective models and this cost function needs to be optimized to train the model.\n",
    "Backpropagation is the method by which the cost function or the loss is minimized by optimizing the weights of the nodes.\n",
    "\n",
    "\n",
    "\n",
    "- **Convolutional Neural Network (CNN)**:\n",
    "\n",
    "This works in a way such that, initially we would feed the network with images and the network classifies the input images.It typically starts with an input scanner which parses the input images iteratively.The input data is then fed into the convolutional layers wherein each of the nodes are mainly concerned about the close neighboring cells only.\n",
    "\n",
    "\n",
    "There are method through which the input scanner or filter is made use of mainly,\n",
    "\n",
    "- Padding – adding rows or columns around the input.\n",
    "- Stride – where the kernel shifts certain units per slide over rows and columns\n",
    "- Pooling – reduces the size of the input by  MaxPooling or AveragePooling."
   ]
  },
  {
   "cell_type": "markdown",
   "id": "considered-machinery",
   "metadata": {},
   "source": [
    "## Object Detection:\n",
    "\n",
    "\n",
    "- This involves obtaining the bounding regions and labels for the individual objects in an input image.\n",
    "\n",
    "- This is divided as two main tasks that are to detect and output the object bounding boxes and the non-object bounding boxes.\n",
    "\n",
    "- This can be done by R-CNN which stands for Region based Convolutional Neural Network.Selective search algorithm initially scans the image for possible objects and proposes the regions.\n",
    "\n",
    "- Then CNN is run on top of these proposed regions.\n",
    "\n",
    "- The output of each CNN is fed into SVM for classification of the region.\n",
    "\n",
    "- Finally, a linear regression model is fit in order to fix and tighten the bounding box of the object.\n",
    "\n",
    "\n",
    "There are also several other modified techniques such as Fast R-CNN, Faster R-CNN and Region Proposed Network which efficiently perform the task of object detection in a set of images.\n"
   ]
  },
  {
   "cell_type": "markdown",
   "id": "faced-tongue",
   "metadata": {},
   "source": [
    "## Object Tracking:\n",
    "\n",
    "\n",
    "This is process of following the path of tracking specific objects of interest or in some cases multiple objects in a given  input sequence.\n",
    "\n",
    "This can be divided into two different categories namely,\n",
    "\n",
    "- Generative Method: which uses the  generative model to describe the characteristics of the object\n",
    "\n",
    "- Discriminative Method: which distinguishes the object from the background which is the main method in tracking.\n",
    "\n",
    "\n",
    "The two basic networks which perform this task are Stack Auto Encoders(SAE) and CNN. "
   ]
  },
  {
   "cell_type": "markdown",
   "id": "joint-football",
   "metadata": {},
   "source": [
    "## Semantic Segmentation:\n",
    "\n",
    "- The process of segmentation involves dividing the whole image into groups of pixels which are then labelled and classified.\n",
    "\n",
    "- It semantically understands the role of each pixel and learns the patterns and develops a dense network of pixel wise predictions.\n",
    "\n",
    "- CNN can be made use of whih initially classifies the input image as a patch by sliding window mechanism where in each pixel is eparately classified into classes using a patch of images around.\n",
    "\n",
    "- This proved computationally ineffective due to which a new technique called as **Fully Convolutional Networks(FCN)**.\n",
    "\n",
    "- This allowed segmentation for images of any size and was also much faster compared to the patch classification method and almost all subsequent techniques to semantic segmentation adopted this method."
   ]
  },
  {
   "cell_type": "markdown",
   "id": "hollywood-wrist",
   "metadata": {},
   "source": [
    "## Conclusion\n",
    "\n",
    "In this summary I have given a brief introduction of what Computer Vision is,followed by the basic computer vision tasks that are important and needs to be achieved.Also I have discussed about the basic pipeline of a computer vision task,with each of the methods briefly explained.\n",
    "I am greatly obliged and thank wowlabz for providing me the valuable learning resources in my internship.I also take this oppurtunity to thank Conduira online for providing me a platform in order to learn and develop my skills."
   ]
  }
 ],
 "metadata": {
  "kernelspec": {
   "display_name": "Python 3",
   "language": "python",
   "name": "python3"
  },
  "language_info": {
   "codemirror_mode": {
    "name": "ipython",
    "version": 3
   },
   "file_extension": ".py",
   "mimetype": "text/x-python",
   "name": "python",
   "nbconvert_exporter": "python",
   "pygments_lexer": "ipython3",
   "version": "3.6.13"
  }
 },
 "nbformat": 4,
 "nbformat_minor": 5
}
